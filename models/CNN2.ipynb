{
 "cells": [
  {
   "cell_type": "code",
   "execution_count": 1,
   "metadata": {},
   "outputs": [
    {
     "name": "stderr",
     "output_type": "stream",
     "text": [
      "/Users/jinli/anaconda3/lib/python3.6/site-packages/h5py/__init__.py:34: FutureWarning: Conversion of the second argument of issubdtype from `float` to `np.floating` is deprecated. In future, it will be treated as `np.float64 == np.dtype(float).type`.\n",
      "  from ._conv import register_converters as _register_converters\n",
      "Using TensorFlow backend.\n"
     ]
    }
   ],
   "source": [
    "import sys\n",
    "sys.path.insert(0, '../preprocessing')\n",
    "import preprocessing as pre\n",
    "\n",
    "import numpy as np\n",
    "import pandas as pd\n",
    "from keras import layers, models\n",
    "from keras import regularizers\n",
    "from keras.layers.normalization import BatchNormalization"
   ]
  },
  {
   "cell_type": "code",
   "execution_count": 2,
   "metadata": {},
   "outputs": [
    {
     "name": "stdout",
     "output_type": "stream",
     "text": [
      "Size of Train Set is: 20480\n",
      "Size of Validation Set is: 5120\n",
      "Size of Test Set is: 6400\n"
     ]
    }
   ],
   "source": [
    "(X_train, y_train,\n",
    " X_valid, y_valid,\n",
    " X_test, y_test) = pre.train_validate_test(r'../data/planesnet.json')"
   ]
  },
  {
   "cell_type": "code",
   "execution_count": null,
   "metadata": {
    "collapsed": true
   },
   "outputs": [],
   "source": []
  },
  {
   "cell_type": "code",
   "execution_count": 3,
   "metadata": {},
   "outputs": [
    {
     "name": "stdout",
     "output_type": "stream",
     "text": [
      "float32 \n",
      " (20480, 20, 20, 3)\n"
     ]
    }
   ],
   "source": [
    "X_train_s = pre.scale (X_train, scale='constant')\n",
    "train_images = X_train_s.reshape([-1,3,20,20]).transpose([0,2,3,1])\n",
    "print (train_images.dtype, '\\n',\n",
    "       train_images.shape)"
   ]
  },
  {
   "cell_type": "code",
   "execution_count": 4,
   "metadata": {},
   "outputs": [
    {
     "name": "stdout",
     "output_type": "stream",
     "text": [
      "float32 \n",
      " (5120, 20, 20, 3)\n"
     ]
    }
   ],
   "source": [
    "X_valid_s = pre.scale (X_valid, scale='constant')\n",
    "valid_images = X_valid_s.reshape([-1,3,20,20]).transpose([0,2,3,1])\n",
    "print (valid_images.dtype, '\\n',\n",
    "       valid_images.shape)"
   ]
  },
  {
   "cell_type": "code",
   "execution_count": 5,
   "metadata": {},
   "outputs": [
    {
     "name": "stdout",
     "output_type": "stream",
     "text": [
      "float32 \n",
      " (6400, 20, 20, 3)\n"
     ]
    }
   ],
   "source": [
    "X_test_s = pre.scale (X_test, scale='constant')\n",
    "test_images = X_test_s.reshape([-1,3,20,20]).transpose([0,2,3,1])\n",
    "print (test_images.dtype, '\\n',\n",
    "       test_images.shape)"
   ]
  },
  {
   "cell_type": "code",
   "execution_count": 6,
   "metadata": {
    "collapsed": true
   },
   "outputs": [],
   "source": [
    "from keras.utils import to_categorical\n",
    "\n",
    "train_labels = to_categorical(y_train)\n",
    "valid_labels = to_categorical(y_valid)\n",
    "test_labels = to_categorical(y_test)"
   ]
  },
  {
   "cell_type": "code",
   "execution_count": null,
   "metadata": {
    "collapsed": true
   },
   "outputs": [],
   "source": []
  },
  {
   "cell_type": "code",
   "execution_count": 7,
   "metadata": {},
   "outputs": [
    {
     "name": "stdout",
     "output_type": "stream",
     "text": [
      "_________________________________________________________________\n",
      "Layer (type)                 Output Shape              Param #   \n",
      "=================================================================\n",
      "conv2d_1 (Conv2D)            (None, 18, 18, 32)        896       \n",
      "_________________________________________________________________\n",
      "max_pooling2d_1 (MaxPooling2 (None, 9, 9, 32)          0         \n",
      "_________________________________________________________________\n",
      "batch_normalization_1 (Batch (None, 9, 9, 32)          128       \n",
      "_________________________________________________________________\n",
      "conv2d_2 (Conv2D)            (None, 9, 9, 64)          2112      \n",
      "_________________________________________________________________\n",
      "conv2d_3 (Conv2D)            (None, 7, 7, 64)          36928     \n",
      "_________________________________________________________________\n",
      "batch_normalization_2 (Batch (None, 7, 7, 64)          256       \n",
      "_________________________________________________________________\n",
      "max_pooling2d_2 (MaxPooling2 (None, 3, 3, 64)          0         \n",
      "_________________________________________________________________\n",
      "conv2d_4 (Conv2D)            (None, 2, 2, 128)         32896     \n",
      "_________________________________________________________________\n",
      "max_pooling2d_3 (MaxPooling2 (None, 1, 1, 128)         0         \n",
      "_________________________________________________________________\n",
      "flatten_1 (Flatten)          (None, 128)               0         \n",
      "_________________________________________________________________\n",
      "dense_1 (Dense)              (None, 64)                8256      \n",
      "_________________________________________________________________\n",
      "dropout_1 (Dropout)          (None, 64)                0         \n",
      "_________________________________________________________________\n",
      "dense_2 (Dense)              (None, 2)                 130       \n",
      "=================================================================\n",
      "Total params: 81,602\n",
      "Trainable params: 81,410\n",
      "Non-trainable params: 192\n",
      "_________________________________________________________________\n"
     ]
    }
   ],
   "source": [
    "model = models.Sequential()\n",
    "model.add(layers.Conv2D(32, (3,3), \n",
    "                        activation='relu', \n",
    "                        input_shape=(20,20,3)) )\n",
    "\n",
    "#model.add(layers.SeparableConv2D(32, 3,\n",
    "#                                 activation='relu', \n",
    "#                                 input_shape=(20,20,3)))\n",
    "\n",
    "model.add(layers.MaxPooling2D((2,2)))\n",
    "\n",
    "model.add(BatchNormalization())\n",
    "\n",
    "model.add(layers.Conv2D(64, (1,1),\n",
    "                        activation='relu'))\n",
    "\n",
    "#model.add(layers.SeparableConv2D(64, 1,\n",
    "#                                 activation='relu', ))\n",
    "\n",
    "model.add(layers.Conv2D(64, (3,3),\n",
    "                        activation='relu'))\n",
    "\n",
    "#model.add(layers.SeparableConv2D(64, 3,\n",
    "#                                 activation='relu', ))\n",
    "\n",
    "\n",
    "model.add(BatchNormalization())\n",
    "\n",
    "model.add(layers.MaxPooling2D((2,2)))\n",
    "\n",
    "model.add(layers.Conv2D(128, (2,2), \n",
    "                        activation='relu'))\n",
    "#model.add(layers.SeparableConv2D(128, 2,\n",
    "#                                 activation='relu', ))\n",
    "\n",
    "model.add(layers.MaxPooling2D((2,2)))\n",
    "model.add(layers.Flatten())\n",
    "\n",
    "#model.add(layers.GlobalAveragePooling2D())\n",
    "\n",
    "model.add(layers.Dense(64, \n",
    "                       kernel_regularizer=regularizers.l2(0.001),\n",
    "                       activation='relu', )\n",
    "                      )\n",
    "model.add(layers.Dropout(.5))\n",
    "model.add(layers.Dense(2, activation='softmax'))\n",
    "model.summary()"
   ]
  },
  {
   "cell_type": "code",
   "execution_count": 8,
   "metadata": {
    "collapsed": true
   },
   "outputs": [],
   "source": [
    "from keras.preprocessing.image import ImageDataGenerator\n",
    "train_datagen = ImageDataGenerator(\n",
    "    # we don't want to shift or scale the image\n",
    "    featurewise_center=False,\n",
    "    samplewise_center=False,\n",
    "    featurewise_std_normalization=False,\n",
    "    samplewise_std_normalization=False,\n",
    "    rotation_range=10,\n",
    "    horizontal_flip=True,\n",
    "    vertical_flip=True)\n",
    "\n",
    "batch_size = 100\n",
    "epochs = 30\n",
    "training_set = train_datagen.flow(train_images, train_labels, batch_size=batch_size)\n",
    "\n",
    "valid_datagen = ImageDataGenerator()\n",
    "valid_set = valid_datagen.flow(valid_images, valid_labels, batch_size=batch_size)\n",
    "\n",
    "#training_set"
   ]
  },
  {
   "cell_type": "code",
   "execution_count": 9,
   "metadata": {
    "collapsed": true
   },
   "outputs": [],
   "source": [
    "from keras.callbacks import ModelCheckpoint, LearningRateScheduler, \\\n",
    "                            EarlyStopping, ReduceLROnPlateau\n",
    "\n",
    "weight_path=\"CNN_2/{}_weights.best.hdf5\".format('CNN2')\n",
    "\n",
    "checkpoint = ModelCheckpoint(weight_path, \n",
    "                             monitor='val_loss', \n",
    "                             verbose=1, \n",
    "                             save_best_only=True, \n",
    "                             mode='min', \n",
    "                             save_weights_only=True)\n",
    "\n",
    "\n",
    "reduceLROnPlat = ReduceLROnPlateau(monitor='val_loss', factor=0.2,\n",
    "                                   patience=1, verbose=1, mode='min',\n",
    "                                   min_delta=0.0001, cooldown=2, min_lr=1e-7)\n",
    "\n",
    "def step_decay(epoch):\n",
    "    initial_lrate = 0.0001\n",
    "    drop = 0.5\n",
    "    epochs_drop = 10.0\n",
    "    lrate = initial_lrate * math.pow(drop, math.floor((1+epoch)/epochs_drop))\n",
    "    return lrate\n",
    "lrate = LearningRateScheduler(step_decay) # can place this in call_backs_list\n",
    "\n",
    "early = EarlyStopping(monitor=\"val_loss\", mode=\"min\", verbose=2,\n",
    "                      patience=5)\n",
    "\n",
    "callbacks_list = [checkpoint, early, reduceLROnPlat]"
   ]
  },
  {
   "cell_type": "code",
   "execution_count": 10,
   "metadata": {
    "collapsed": true
   },
   "outputs": [],
   "source": [
    "model.compile(optimizer='rmsprop',\n",
    "             loss='binary_crossentropy',\n",
    "             metrics=['accuracy'])\n",
    "#history = model.fit(train_images, train_labels,\n",
    "#          epochs=epochs,\n",
    "#          batch_size=batch_size,\n",
    "#          validation_data=(valid_images, valid_labels))\n",
    "#len(train_images)\n",
    "#round (len(train_images) / batch_size)"
   ]
  },
  {
   "cell_type": "code",
   "execution_count": 11,
   "metadata": {},
   "outputs": [
    {
     "name": "stdout",
     "output_type": "stream",
     "text": [
      "Epoch 1/30\n",
      "205/205 [==============================] - 23s 113ms/step - loss: 0.2456 - acc: 0.9303 - val_loss: 1.5853 - val_acc: 0.6867\n",
      "\n",
      "Epoch 00001: val_loss improved from inf to 1.58534, saving model to CNN_2/CNN2_weights.best.hdf5\n",
      "Epoch 2/30\n",
      "205/205 [==============================] - 22s 108ms/step - loss: 0.1469 - acc: 0.9612 - val_loss: 0.2825 - val_acc: 0.9066\n",
      "\n",
      "Epoch 00002: val_loss improved from 1.58534 to 0.28248, saving model to CNN_2/CNN2_weights.best.hdf5\n",
      "Epoch 3/30\n",
      "205/205 [==============================] - 20s 97ms/step - loss: 0.1166 - acc: 0.9686 - val_loss: 0.7807 - val_acc: 0.7863\n",
      "\n",
      "Epoch 00003: val_loss did not improve from 0.28248\n",
      "\n",
      "Epoch 00003: ReduceLROnPlateau reducing learning rate to 0.00020000000949949026.\n",
      "Epoch 4/30\n",
      "205/205 [==============================] - 18s 90ms/step - loss: 0.0869 - acc: 0.9784 - val_loss: 0.0792 - val_acc: 0.9793\n",
      "\n",
      "Epoch 00004: val_loss improved from 0.28248 to 0.07921, saving model to CNN_2/CNN2_weights.best.hdf5\n",
      "Epoch 5/30\n",
      "205/205 [==============================] - 19s 90ms/step - loss: 0.0781 - acc: 0.9812 - val_loss: 0.2694 - val_acc: 0.9189\n",
      "\n",
      "Epoch 00005: val_loss did not improve from 0.07921\n",
      "\n",
      "Epoch 00005: ReduceLROnPlateau reducing learning rate to 4.0000001899898055e-05.\n",
      "Epoch 6/30\n",
      "205/205 [==============================] - 19s 91ms/step - loss: 0.0702 - acc: 0.9838 - val_loss: 0.0710 - val_acc: 0.9847\n",
      "\n",
      "Epoch 00006: val_loss improved from 0.07921 to 0.07101, saving model to CNN_2/CNN2_weights.best.hdf5\n",
      "Epoch 7/30\n",
      "205/205 [==============================] - 19s 94ms/step - loss: 0.0667 - acc: 0.9852 - val_loss: 0.0745 - val_acc: 0.9825\n",
      "\n",
      "Epoch 00007: val_loss did not improve from 0.07101\n",
      "\n",
      "Epoch 00007: ReduceLROnPlateau reducing learning rate to 8.000000525498762e-06.\n",
      "Epoch 8/30\n",
      "205/205 [==============================] - 25s 121ms/step - loss: 0.0665 - acc: 0.9853 - val_loss: 0.0686 - val_acc: 0.9847\n",
      "\n",
      "Epoch 00008: val_loss improved from 0.07101 to 0.06861, saving model to CNN_2/CNN2_weights.best.hdf5\n",
      "Epoch 9/30\n",
      "205/205 [==============================] - 25s 120ms/step - loss: 0.0659 - acc: 0.9851 - val_loss: 0.0632 - val_acc: 0.9849\n",
      "\n",
      "Epoch 00009: val_loss improved from 0.06861 to 0.06317, saving model to CNN_2/CNN2_weights.best.hdf5\n",
      "Epoch 10/30\n",
      "205/205 [==============================] - 20s 97ms/step - loss: 0.0690 - acc: 0.9852 - val_loss: 0.0762 - val_acc: 0.9829\n",
      "\n",
      "Epoch 00010: val_loss did not improve from 0.06317\n",
      "\n",
      "Epoch 00010: ReduceLROnPlateau reducing learning rate to 1.6000001778593287e-06.\n",
      "Epoch 11/30\n",
      "205/205 [==============================] - 19s 95ms/step - loss: 0.0671 - acc: 0.9855 - val_loss: 0.0629 - val_acc: 0.9875\n",
      "\n",
      "Epoch 00011: val_loss improved from 0.06317 to 0.06288, saving model to CNN_2/CNN2_weights.best.hdf5\n",
      "Epoch 12/30\n",
      "205/205 [==============================] - 21s 101ms/step - loss: 0.0650 - acc: 0.9858 - val_loss: 0.0732 - val_acc: 0.9833\n",
      "\n",
      "Epoch 00012: val_loss did not improve from 0.06288\n",
      "\n",
      "Epoch 00012: ReduceLROnPlateau reducing learning rate to 3.200000264769187e-07.\n",
      "Epoch 13/30\n",
      "205/205 [==============================] - 20s 100ms/step - loss: 0.0661 - acc: 0.9848 - val_loss: 0.0630 - val_acc: 0.9865\n",
      "\n",
      "Epoch 00013: val_loss did not improve from 0.06288\n",
      "Epoch 14/30\n",
      "205/205 [==============================] - 22s 106ms/step - loss: 0.0684 - acc: 0.9848 - val_loss: 0.0711 - val_acc: 0.9837\n",
      "\n",
      "Epoch 00014: val_loss did not improve from 0.06288\n",
      "\n",
      "Epoch 00014: ReduceLROnPlateau reducing learning rate to 1e-07.\n",
      "Epoch 15/30\n",
      "205/205 [==============================] - 22s 106ms/step - loss: 0.0655 - acc: 0.9849 - val_loss: 0.0683 - val_acc: 0.9857\n",
      "\n",
      "Epoch 00015: val_loss did not improve from 0.06288\n",
      "Epoch 16/30\n",
      "205/205 [==============================] - 21s 103ms/step - loss: 0.0669 - acc: 0.9853 - val_loss: 0.0663 - val_acc: 0.9859\n",
      "\n",
      "Epoch 00016: val_loss did not improve from 0.06288\n",
      "\n",
      "Epoch 00016: ReduceLROnPlateau reducing learning rate to 1e-07.\n",
      "Epoch 00016: early stopping\n"
     ]
    }
   ],
   "source": [
    "history2 = model.fit_generator(training_set,\n",
    "                               validation_data=valid_set,\n",
    "                               steps_per_epoch= round (len(train_images) / batch_size),\n",
    "                               epochs=epochs,\n",
    "                               validation_steps=round (len(valid_images) / batch_size),\n",
    "                               callbacks=callbacks_list)"
   ]
  },
  {
   "cell_type": "code",
   "execution_count": 12,
   "metadata": {},
   "outputs": [
    {
     "data": {
      "image/png": "[encoded data removed]",
      "text/plain": [
       "<matplotlib.figure.Figure at 0x1a26313ac8>"
      ]
     },
     "metadata": {},
     "output_type": "display_data"
    }
   ],
   "source": [
    "import matplotlib.pyplot as plt\n",
    "history_dict = history2.history\n",
    "loss_values = history_dict['loss']\n",
    "val_loss_values = history_dict['val_loss']\n",
    "epochs = range(1, len(loss_values) + 1)\n",
    "\n",
    "plt.plot (epochs, loss_values, 'bo', label='Training loss')\n",
    "plt.plot (epochs, val_loss_values, 'b', label=\"validation loss\")\n",
    "plt.title('Training and validation loss')\n",
    "plt.xlabel('Epochs')\n",
    "plt.ylabel('Loss')\n",
    "plt.legend()\n",
    "plt.show()"
   ]
  },
  {
   "cell_type": "code",
   "execution_count": 13,
   "metadata": {},
   "outputs": [
    {
     "data": {
      "image/png": "[encoded data removed]",
      "text/plain": [
       "<matplotlib.figure.Figure at 0x1a26313d68>"
      ]
     },
     "metadata": {},
     "output_type": "display_data"
    }
   ],
   "source": [
    "plt.clf()\n",
    "acc = history_dict['acc']\n",
    "val_acc = history_dict['val_acc']\n",
    "plt.plot (epochs, acc, 'bo', label='Training accuracy')\n",
    "plt.plot (epochs, val_acc, 'b', label=\"validation accuracy\")\n",
    "plt.title('Training and validation accuracy')\n",
    "plt.xlabel('Epochs')\n",
    "plt.ylabel('Accuracy')\n",
    "plt.legend()\n",
    "plt.show()"
   ]
  },
  {
   "cell_type": "code",
   "execution_count": 14,
   "metadata": {},
   "outputs": [
    {
     "name": "stdout",
     "output_type": "stream",
     "text": [
      "6400/6400 [==============================] - 2s 254us/step\n"
     ]
    },
    {
     "data": {
      "text/plain": [
       "[0.10611832418479025, 0.96546875]"
      ]
     },
     "execution_count": 14,
     "metadata": {},
     "output_type": "execute_result"
    }
   ],
   "source": [
    "model.evaluate(test_images, test_labels)"
   ]
  },
  {
   "cell_type": "code",
   "execution_count": null,
   "metadata": {
    "collapsed": true
   },
   "outputs": [],
   "source": []
  },
  {
   "cell_type": "code",
   "execution_count": null,
   "metadata": {
    "collapsed": true
   },
   "outputs": [],
   "source": []
  }
 ],
 "metadata": {
  "kernelspec": {
   "display_name": "Python 3",
   "language": "python",
   "name": "python3"
  },
  "language_info": {
   "codemirror_mode": {
    "name": "ipython",
    "version": 3
   },
   "file_extension": ".py",
   "mimetype": "text/x-python",
   "name": "python",
   "nbconvert_exporter": "python",
   "pygments_lexer": "ipython3",
   "version": "3.6.3"
  },
  "toc": {
   "base_numbering": 1,
   "nav_menu": {},
   "number_sections": true,
   "sideBar": true,
   "skip_h1_title": false,
   "title_cell": "Table of Contents",
   "title_sidebar": "Contents",
   "toc_cell": false,
   "toc_position": {},
   "toc_section_display": true,
   "toc_window_display": false
  }
 },
 "nbformat": 4,
 "nbformat_minor": 2
}
