{
 "cells": [
  {
   "cell_type": "code",
   "execution_count": 1,
   "metadata": {},
   "outputs": [
    {
     "name": "stderr",
     "output_type": "stream",
     "text": [
      "/Users/jinli/anaconda3/lib/python3.6/site-packages/h5py/__init__.py:34: FutureWarning: Conversion of the second argument of issubdtype from `float` to `np.floating` is deprecated. In future, it will be treated as `np.float64 == np.dtype(float).type`.\n",
      "  from ._conv import register_converters as _register_converters\n"
     ]
    }
   ],
   "source": [
    "import sys\n",
    "sys.path.insert(0, '../preprocessing')\n",
    "import preprocessing as pre\n",
    "\n",
    "import numpy as np\n",
    "import pandas as pd\n",
    "import tensorflow as tf"
   ]
  },
  {
   "cell_type": "code",
   "execution_count": 2,
   "metadata": {},
   "outputs": [
    {
     "name": "stdout",
     "output_type": "stream",
     "text": [
      "Size of Train Set is: 20480\n",
      "Size of Validation Set is: 5120\n",
      "Size of Test Set is: 6400\n"
     ]
    }
   ],
   "source": [
    "(X_train, y_train,\n",
    " X_valid, y_valid,\n",
    " X_test, y_test) = pre.train_validate_test(r'../data/planesnet.json')"
   ]
  },
  {
   "cell_type": "code",
   "execution_count": 3,
   "metadata": {
    "collapsed": true
   },
   "outputs": [],
   "source": [
    "def reset_graph (seed=42):\n",
    "    tf.reset_default_graph()\n",
    "    tf.set_random_seed(seed)\n",
    "    np.random.seed(seed)\n",
    "    \n",
    "def shuffle_batch(X, y, batch_size):\n",
    "    rnd_idx = np.random.permutation(len(X))\n",
    "    n_batches = len(X) // batch_size\n",
    "    for batch_idx in np.array_split(rnd_idx, n_batches):\n",
    "        X_batch, y_batch = X[batch_idx], y[batch_idx]\n",
    "        yield X_batch, y_batch"
   ]
  },
  {
   "cell_type": "code",
   "execution_count": 4,
   "metadata": {},
   "outputs": [
    {
     "data": {
      "text/plain": [
       "array([[0.78039217, 0.78039217, 0.7921569 , ..., 0.9098039 , 0.9254902 ,\n",
       "        0.93333334],\n",
       "       [0.6627451 , 0.68235296, 0.7019608 , ..., 0.7490196 , 0.6901961 ,\n",
       "        0.6156863 ],\n",
       "       [0.8       , 0.8       , 0.8039216 , ..., 0.80784315, 0.7764706 ,\n",
       "        0.7607843 ],\n",
       "       ...,\n",
       "       [0.4392157 , 0.45882353, 0.43529412, ..., 0.4392157 , 0.43529412,\n",
       "        0.42745098],\n",
       "       [0.8235294 , 0.8235294 , 0.83137256, ..., 0.69411767, 0.69411767,\n",
       "        0.6901961 ],\n",
       "       [0.68235296, 0.62352943, 0.60784316, ..., 0.627451  , 0.5882353 ,\n",
       "        0.54901963]], dtype=float32)"
      ]
     },
     "execution_count": 4,
     "metadata": {},
     "output_type": "execute_result"
    }
   ],
   "source": [
    "X_train_s = pre.scale (X_train, scale='constant')\n",
    "X_train_s"
   ]
  },
  {
   "cell_type": "code",
   "execution_count": 5,
   "metadata": {},
   "outputs": [
    {
     "data": {
      "text/plain": [
       "(20480, 1200)"
      ]
     },
     "execution_count": 5,
     "metadata": {},
     "output_type": "execute_result"
    }
   ],
   "source": [
    "X_train_s.shape"
   ]
  },
  {
   "cell_type": "code",
   "execution_count": 78,
   "metadata": {
    "collapsed": true
   },
   "outputs": [],
   "source": [
    "# parameters\n",
    "height = 20\n",
    "width = 20\n",
    "channels = 3\n",
    "\n",
    "n_inputs = height * width * channels\n",
    "\n",
    "conv1_fmaps = 64\n",
    "conv1_ksize = 3\n",
    "conv1_stride = 2\n",
    "conv1_pad = \"SAME\"\n",
    "\n",
    "conv2_fmaps = 128\n",
    "conv2_ksize = 3\n",
    "conv2_stride = 2\n",
    "conv2_pad = \"SAME\"\n",
    "\n",
    "pool3_fmaps = conv2_fmaps\n",
    "\n",
    "n_fc1 = 64\n",
    "n_outputs = 2\n",
    "\n",
    "reset_graph()"
   ]
  },
  {
   "cell_type": "code",
   "execution_count": 79,
   "metadata": {
    "collapsed": true
   },
   "outputs": [],
   "source": [
    "with tf.name_scope(\"inputs\"):\n",
    "    X = tf.placeholder(tf.float32, shape=[None, n_inputs], name=\"X\")\n",
    "    X_reshaped = tf.reshape(X, shape=[-1, height, width, channels])\n",
    "    y = tf.placeholder(tf.int32, shape=[None], name=\"y\")"
   ]
  },
  {
   "cell_type": "code",
   "execution_count": 80,
   "metadata": {
    "collapsed": true
   },
   "outputs": [],
   "source": [
    "conv1 = tf.layers.conv2d(X_reshaped, \n",
    "                         filters=conv1_fmaps, \n",
    "                         kernel_size=conv1_ksize,\n",
    "                         strides=conv1_stride, \n",
    "                         padding=conv1_pad,\n",
    "                         activation=tf.nn.relu, \n",
    "                         name=\"conv1\")\n",
    "\n",
    "with tf.name_scope('pool1'):\n",
    "    pool1 = tf.nn.max_pool (conv1,\n",
    "                            ksize=[1, 2, 2, 1], \n",
    "                            strides=[1, 2, 2, 1], \n",
    "                            padding=\"VALID\")\n",
    "    \n",
    "lrn1 = tf.nn.local_response_normalization(pool1,)\n",
    "\n",
    "conv2 = tf.layers.conv2d(lrn1, \n",
    "                         filters=conv2_fmaps, \n",
    "                         kernel_size=conv2_ksize,\n",
    "                         strides=conv2_stride, \n",
    "                         padding=conv2_pad,\n",
    "                         activation=tf.nn.relu, \n",
    "                         name=\"conv2\")"
   ]
  },
  {
   "cell_type": "code",
   "execution_count": 81,
   "metadata": {
    "collapsed": true
   },
   "outputs": [],
   "source": [
    "with tf.name_scope(\"pool3\"):\n",
    "    pool3 = tf.nn.max_pool(conv2, \n",
    "                           ksize=[1, 2, 2, 1], \n",
    "                           strides=[1, 2, 2, 1], \n",
    "                           padding=\"VALID\")\n",
    "    pool3_flat = tf.reshape(pool3, \n",
    "                            shape=[-1, pool3_fmaps])"
   ]
  },
  {
   "cell_type": "code",
   "execution_count": 82,
   "metadata": {
    "collapsed": true
   },
   "outputs": [],
   "source": [
    "with tf.name_scope(\"fc1\"):\n",
    "    # Turn drop out on for training, off for testing.\n",
    "    training = tf.placeholder_with_default(False, shape=(), name='training')\n",
    "    \n",
    "    dropout_rate = .5 # 1 - keep_prob\n",
    "    \n",
    "    fc1 = tf.layers.dense(pool3_flat, \n",
    "                          n_fc1, \n",
    "                          activation=tf.nn.relu, \n",
    "                          name=\"fc1\")\n",
    "    fc1_drop = tf.layers.dropout(fc1, \n",
    "                                 dropout_rate,\n",
    "                                 training=training)"
   ]
  },
  {
   "cell_type": "code",
   "execution_count": 83,
   "metadata": {
    "collapsed": true
   },
   "outputs": [],
   "source": [
    "with tf.name_scope(\"output\"):\n",
    "    logits = tf.layers.dense(fc1, \n",
    "                             n_outputs, \n",
    "                             name=\"output\")\n",
    "    Y_proba = tf.nn.softmax(logits, \n",
    "                            name=\"Y_proba\")"
   ]
  },
  {
   "cell_type": "code",
   "execution_count": 84,
   "metadata": {
    "collapsed": true
   },
   "outputs": [],
   "source": [
    "with tf.name_scope(\"train\"):\n",
    "    xentropy = tf.nn.sparse_softmax_cross_entropy_with_logits(logits=logits, labels=y)\n",
    "    loss = tf.reduce_mean(xentropy)\n",
    "    optimizer = tf.train.AdamOptimizer()\n",
    "    training_op = optimizer.minimize(loss)"
   ]
  },
  {
   "cell_type": "code",
   "execution_count": 85,
   "metadata": {
    "collapsed": true
   },
   "outputs": [],
   "source": [
    "with tf.name_scope(\"eval\"):\n",
    "    # returns 1D tensor of booleans\n",
    "    correct = tf.nn.in_top_k(logits, y, 1) \n",
    "    # turn booleans into floats and find average\n",
    "    accuracy = tf.reduce_mean(tf.cast(correct, tf.float32)) "
   ]
  },
  {
   "cell_type": "code",
   "execution_count": 86,
   "metadata": {
    "collapsed": true
   },
   "outputs": [],
   "source": [
    "with tf.name_scope(\"init_and_save\"):\n",
    "    init = tf.global_variables_initializer()\n",
    "    saver = tf.train.Saver()"
   ]
  },
  {
   "cell_type": "code",
   "execution_count": 88,
   "metadata": {},
   "outputs": [
    {
     "name": "stdout",
     "output_type": "stream",
     "text": [
      "0 Batch accuracy: 0.9 Validation accuracy: 0.49140626\n",
      "1 Batch accuracy: 0.925 Validation accuracy: 0.79726565\n",
      "2 Batch accuracy: 0.95 Validation accuracy: 0.61992186\n",
      "3 Batch accuracy: 0.95 Validation accuracy: 0.5839844\n",
      "4 Batch accuracy: 1.0 Validation accuracy: 0.8984375\n",
      "5 Batch accuracy: 0.975 Validation accuracy: 0.6970703\n",
      "6 Batch accuracy: 0.95 Validation accuracy: 0.8226563\n",
      "7 Batch accuracy: 0.975 Validation accuracy: 0.82480466\n",
      "8 Batch accuracy: 1.0 Validation accuracy: 0.86992186\n",
      "9 Batch accuracy: 1.0 Validation accuracy: 0.87109375\n",
      "10 Batch accuracy: 0.95 Validation accuracy: 0.85683596\n",
      "11 Batch accuracy: 0.975 Validation accuracy: 0.7796875\n",
      "12 Batch accuracy: 0.95 Validation accuracy: 0.81503904\n",
      "13 Batch accuracy: 0.975 Validation accuracy: 0.7453125\n",
      "14 Batch accuracy: 0.975 Validation accuracy: 0.8283203\n",
      "15 Batch accuracy: 1.0 Validation accuracy: 0.83496094\n",
      "16 Batch accuracy: 0.95 Validation accuracy: 0.83125\n",
      "17 Batch accuracy: 1.0 Validation accuracy: 0.78027344\n",
      "18 Batch accuracy: 0.975 Validation accuracy: 0.8373047\n",
      "19 Batch accuracy: 1.0 Validation accuracy: 0.8279297\n",
      "20 Batch accuracy: 0.975 Validation accuracy: 0.76601565\n",
      "21 Batch accuracy: 0.975 Validation accuracy: 0.7294922\n",
      "22 Batch accuracy: 1.0 Validation accuracy: 0.80566406\n",
      "23 Batch accuracy: 0.975 Validation accuracy: 0.8044922\n",
      "24 Batch accuracy: 0.95 Validation accuracy: 0.7542969\n",
      "25 Batch accuracy: 1.0 Validation accuracy: 0.84414065\n",
      "26 Batch accuracy: 0.975 Validation accuracy: 0.69257814\n",
      "27 Batch accuracy: 1.0 Validation accuracy: 0.81816405\n",
      "28 Batch accuracy: 1.0 Validation accuracy: 0.7457031\n",
      "29 Batch accuracy: 1.0 Validation accuracy: 0.7066406\n"
     ]
    }
   ],
   "source": [
    "n_epochs = 30\n",
    "batch_size = 40\n",
    "with tf.Session() as sess:\n",
    "    init.run()\n",
    "    for epoch in range(n_epochs):\n",
    "        for X_batch, y_batch in shuffle_batch(X_train_s, y_train, batch_size):\n",
    "            sess.run(training_op, feed_dict={training:True,\n",
    "                                             X: X_batch, \n",
    "                                             y: y_batch})\n",
    "        acc_batch = accuracy.eval(feed_dict={X: X_batch, y: y_batch})\n",
    "        acc_valid = accuracy.eval(feed_dict={X: X_valid, y: y_valid})\n",
    "        print(epoch, \"Batch accuracy:\", acc_batch, \"Validation accuracy:\", acc_valid)\n",
    "\n",
    "    save_path = saver.save(sess, \"CNN_1/my_model_final.ckpt\")"
   ]
  },
  {
   "cell_type": "code",
   "execution_count": 67,
   "metadata": {},
   "outputs": [
    {
     "data": {
      "text/plain": [
       "49.0"
      ]
     },
     "execution_count": 67,
     "metadata": {},
     "output_type": "execute_result"
    }
   ],
   "source": [
    "# this is actually annoying to configure: i'll just use keras bc its easier \n",
    "# and i don't have to rename the graphs names everytime I want to add something\n",
    "# keras is also a lot more user friendly"
   ]
  },
  {
   "cell_type": "code",
   "execution_count": null,
   "metadata": {
    "collapsed": true
   },
   "outputs": [],
   "source": [
    "64000/64"
   ]
  },
  {
   "cell_type": "code",
   "execution_count": null,
   "metadata": {
    "collapsed": true
   },
   "outputs": [],
   "source": [
    "6464/64"
   ]
  },
  {
   "cell_type": "code",
   "execution_count": null,
   "metadata": {
    "collapsed": true
   },
   "outputs": [],
   "source": []
  },
  {
   "cell_type": "code",
   "execution_count": null,
   "metadata": {
    "collapsed": true
   },
   "outputs": [],
   "source": []
  }
 ],
 "metadata": {
  "kernelspec": {
   "display_name": "Python 3",
   "language": "python",
   "name": "python3"
  },
  "language_info": {
   "codemirror_mode": {
    "name": "ipython",
    "version": 3
   },
   "file_extension": ".py",
   "mimetype": "text/x-python",
   "name": "python",
   "nbconvert_exporter": "python",
   "pygments_lexer": "ipython3",
   "version": "3.6.3"
  }
 },
 "nbformat": 4,
 "nbformat_minor": 2
}
