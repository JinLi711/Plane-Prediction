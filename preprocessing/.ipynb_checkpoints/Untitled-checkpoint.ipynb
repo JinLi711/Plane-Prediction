{
 "cells": [
  {
   "cell_type": "code",
   "execution_count": 1,
   "metadata": {
    "collapsed": true
   },
   "outputs": [],
   "source": [
    "#import json\n",
    "\n",
    "import pandas as pd\n",
    "import numpy as np\n",
    "\n",
    "import preprocessing as pre"
   ]
  },
  {
   "cell_type": "code",
   "execution_count": 2,
   "metadata": {},
   "outputs": [
    {
     "name": "stdout",
     "output_type": "stream",
     "text": [
      "Size of Train Set is: 20480\n",
      "Size of Validation Set is: 5120\n",
      "Size of Test Set is: 6400\n"
     ]
    }
   ],
   "source": [
    "#file = open(r'../data/planesnet.json')\n",
    "#planesnet = json.load(file)\n",
    "#file.close()\n",
    "train, valid, test = pre.train_validate_test(r'../data/planesnet.json')"
   ]
  },
  {
   "cell_type": "code",
   "execution_count": null,
   "metadata": {
    "collapsed": true
   },
   "outputs": [],
   "source": []
  },
  {
   "cell_type": "code",
   "execution_count": 3,
   "metadata": {},
   "outputs": [
    {
     "data": {
      "text/html": [
       "<div>\n",
       "<style>\n",
       "    .dataframe thead tr:only-child th {\n",
       "        text-align: right;\n",
       "    }\n",
       "\n",
       "    .dataframe thead th {\n",
       "        text-align: left;\n",
       "    }\n",
       "\n",
       "    .dataframe tbody tr th {\n",
       "        vertical-align: top;\n",
       "    }\n",
       "</style>\n",
       "<table border=\"1\" class=\"dataframe\">\n",
       "  <thead>\n",
       "    <tr style=\"text-align: right;\">\n",
       "      <th></th>\n",
       "      <th>data</th>\n",
       "      <th>labels</th>\n",
       "    </tr>\n",
       "  </thead>\n",
       "  <tbody>\n",
       "    <tr>\n",
       "      <th>20886</th>\n",
       "      <td>[199, 199, 202, 202, 221, 222, 189, 147, 142, ...</td>\n",
       "      <td>0</td>\n",
       "    </tr>\n",
       "    <tr>\n",
       "      <th>16630</th>\n",
       "      <td>[169, 174, 179, 196, 189, 170, 216, 245, 253, ...</td>\n",
       "      <td>0</td>\n",
       "    </tr>\n",
       "    <tr>\n",
       "      <th>4086</th>\n",
       "      <td>[204, 204, 205, 210, 206, 206, 215, 208, 205, ...</td>\n",
       "      <td>1</td>\n",
       "    </tr>\n",
       "    <tr>\n",
       "      <th>18009</th>\n",
       "      <td>[230, 226, 225, 224, 228, 228, 213, 188, 200, ...</td>\n",
       "      <td>0</td>\n",
       "    </tr>\n",
       "    <tr>\n",
       "      <th>4929</th>\n",
       "      <td>[168, 169, 173, 160, 164, 181, 203, 195, 198, ...</td>\n",
       "      <td>1</td>\n",
       "    </tr>\n",
       "  </tbody>\n",
       "</table>\n",
       "</div>"
      ],
      "text/plain": [
       "                                                    data  labels\n",
       "20886  [199, 199, 202, 202, 221, 222, 189, 147, 142, ...       0\n",
       "16630  [169, 174, 179, 196, 189, 170, 216, 245, 253, ...       0\n",
       "4086   [204, 204, 205, 210, 206, 206, 215, 208, 205, ...       1\n",
       "18009  [230, 226, 225, 224, 228, 228, 213, 188, 200, ...       0\n",
       "4929   [168, 169, 173, 160, 164, 181, 203, 195, 198, ...       1"
      ]
     },
     "execution_count": 3,
     "metadata": {},
     "output_type": "execute_result"
    }
   ],
   "source": [
    "train.head()"
   ]
  },
  {
   "cell_type": "code",
   "execution_count": 67,
   "metadata": {},
   "outputs": [
    {
     "name": "stdout",
     "output_type": "stream",
     "text": [
      "(20480,) (20480,)\n"
     ]
    },
    {
     "data": {
      "text/plain": [
       "numpy.ndarray"
      ]
     },
     "execution_count": 67,
     "metadata": {},
     "output_type": "execute_result"
    }
   ],
   "source": [
    "X = train['data'].values\n",
    "#X = np.array(X.tolist()) / 255\n",
    "y = train['labels'].values\n",
    "print (X.shape, y.shape)\n",
    "type (X)"
   ]
  },
  {
   "cell_type": "code",
   "execution_count": 63,
   "metadata": {
    "collapsed": true
   },
   "outputs": [],
   "source": [
    "def num_pipeline (X, scale='constant'):\n",
    "    \"\"\"\n",
    "    Perform normalization.\n",
    "    \n",
    "    :param X: An array of arrays\n",
    "    :type  X: numpy.ndarray\n",
    "    :param scale: constant or standard\n",
    "    :type  scale: str\n",
    "    :return: 2D numpy array\n",
    "    :rtype:  numpy.ndarray\n",
    "    \"\"\"  \n",
    "    \n",
    "    X = np.array(X.tolist())\n",
    "    \n",
    "    if scale == 'constant':\n",
    "        X_scaled = X / 255\n",
    "    elif scale == 'standard':\n",
    "        from sklearn.preprocessing import StandardScaler\n",
    "        from sklearn.pipeline import Pipeline\n",
    "        \n",
    "        # This scales the features to have a mean of zero and unit variance\n",
    "        pipeline = Pipeline([\n",
    "            ('std scaler', StandardScaler()),\n",
    "            ])\n",
    "        X_scaled = pipeline.fit_transform(X)\n",
    "    else:\n",
    "        raise Exception (\"Not a scale\")\n",
    "    return (X_scaled)"
   ]
  },
  {
   "cell_type": "code",
   "execution_count": 64,
   "metadata": {},
   "outputs": [
    {
     "name": "stderr",
     "output_type": "stream",
     "text": [
      "/Users/jinli/anaconda3/lib/python3.6/site-packages/sklearn/utils/validation.py:595: DataConversionWarning: Data with input dtype int64 was converted to float64 by StandardScaler.\n",
      "  warnings.warn(msg, DataConversionWarning)\n",
      "/Users/jinli/anaconda3/lib/python3.6/site-packages/sklearn/utils/validation.py:595: DataConversionWarning: Data with input dtype int64 was converted to float64 by StandardScaler.\n",
      "  warnings.warn(msg, DataConversionWarning)\n"
     ]
    }
   ],
   "source": [
    "X_STD = num_pipeline(X, scale=\"standard\")"
   ]
  },
  {
   "cell_type": "code",
   "execution_count": 65,
   "metadata": {},
   "outputs": [
    {
     "data": {
      "text/plain": [
       "numpy.ndarray"
      ]
     },
     "execution_count": 65,
     "metadata": {},
     "output_type": "execute_result"
    }
   ],
   "source": [
    "type (X_STD)#.shape"
   ]
  },
  {
   "cell_type": "code",
   "execution_count": 38,
   "metadata": {},
   "outputs": [],
   "source": []
  },
  {
   "cell_type": "code",
   "execution_count": 48,
   "metadata": {},
   "outputs": [],
   "source": [
    "X_STD = num_pipeline (X)"
   ]
  },
  {
   "cell_type": "code",
   "execution_count": 49,
   "metadata": {},
   "outputs": [
    {
     "data": {
      "text/plain": [
       "array([[ 0.30985771,  0.30500394,  0.35803707, ...,  1.59615169,\n",
       "         1.68635752,  1.72868204],\n",
       "       [-0.26872064, -0.17793901, -0.08652454, ...,  0.75035738,\n",
       "         0.4533955 ,  0.06654538],\n",
       "       [ 0.40628744,  0.40159253,  0.41602336, ...,  1.05979432,\n",
       "         0.90548157,  0.82579299],\n",
       "       ...,\n",
       "       [-1.36801952, -1.27904893, -1.40088059, ..., -0.87934383,\n",
       "        -0.88231337, -0.91842449],\n",
       "       [ 0.52200311,  0.51749884,  0.55132472, ...,  0.46154957,\n",
       "         0.47394486,  0.45642929],\n",
       "       [-0.17229092, -0.46770478, -0.55041491, ...,  0.11085437,\n",
       "        -0.08088805, -0.28229811]])"
      ]
     },
     "execution_count": 49,
     "metadata": {},
     "output_type": "execute_result"
    }
   ],
   "source": [
    "X_STD"
   ]
  },
  {
   "cell_type": "code",
   "execution_count": null,
   "metadata": {},
   "outputs": [],
   "source": [
    "#strat_test_set['labels'].value_counts()/ len(strat_test_set)\n",
    "## Proportions are correct since there are 3 times as many non-planes\n",
    "#print (train.shape,\n",
    "#       valid.shape, \n",
    "#       test.shape)"
   ]
  },
  {
   "cell_type": "code",
   "execution_count": null,
   "metadata": {},
   "outputs": [],
   "source": [
    "type (train)"
   ]
  },
  {
   "cell_type": "code",
   "execution_count": null,
   "metadata": {},
   "outputs": [],
   "source": [
    "6400*5"
   ]
  },
  {
   "cell_type": "code",
   "execution_count": null,
   "metadata": {
    "collapsed": true
   },
   "outputs": [],
   "source": []
  }
 ],
 "metadata": {
  "kernelspec": {
   "display_name": "Python 3",
   "language": "python",
   "name": "python3"
  },
  "language_info": {
   "codemirror_mode": {
    "name": "ipython",
    "version": 3
   },
   "file_extension": ".py",
   "mimetype": "text/x-python",
   "name": "python",
   "nbconvert_exporter": "python",
   "pygments_lexer": "ipython3",
   "version": "3.6.3"
  }
 },
 "nbformat": 4,
 "nbformat_minor": 2
}
